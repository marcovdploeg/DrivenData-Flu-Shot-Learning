{
 "cells": [
  {
   "cell_type": "markdown",
   "metadata": {},
   "source": [
    "### This notebook contains the code to generate the submission for the \"Flu Shot Learning: Predict H1N1 and Seasonal Flu Vaccines\" competition.\n",
    "\n",
    "The submission should contain 3 columns, with the respondent_id, the probability someone gets the H1N1 vaccine (h1n1_vaccine), and the probability that someone gets the flu shot (seasonal_vaccine).\n",
    "\n",
    "To train the model, we use the training_set_features.csv data, with the training_set_labels.csv data as the known probabilities. Finally we want to predict the values for the test_set_features.csv data.\n",
    "\n",
    "The score is evaluated using the receiver operating characteristic curve (ROC AUC), with default \"average='macro'\".\n",
    "\n",
    "In this script we train a deep learning model."
   ]
  },
  {
   "cell_type": "code",
   "execution_count": 1,
   "metadata": {},
   "outputs": [],
   "source": [
    "import pandas as pd\n",
    "from sklearn.metrics import roc_auc_score\n",
    "from tensorflow import keras\n",
    "from tensorflow.keras import layers"
   ]
  },
  {
   "cell_type": "code",
   "execution_count": 3,
   "metadata": {},
   "outputs": [],
   "source": [
    "X_train_prep = pd.read_csv('X_train_prep.csv')\n",
    "X_valid_prep = pd.read_csv('X_valid_prep.csv')\n",
    "y_train = pd.read_csv('y_train.csv')\n",
    "y_valid = pd.read_csv('y_valid.csv')"
   ]
  },
  {
   "cell_type": "code",
   "execution_count": 4,
   "metadata": {},
   "outputs": [],
   "source": [
    "# Now train the model\n",
    "n_units = 512\n",
    "model = keras.Sequential([\n",
    "    layers.Dense(n_units, activation=\"relu\", input_shape=[X_train_prep.shape[1]]),\n",
    "    layers.Dropout(0.3),\n",
    "    layers.BatchNormalization(),\n",
    "    layers.Dense(n_units, activation=\"relu\"),\n",
    "    layers.Dropout(0.3),\n",
    "    layers.BatchNormalization(),\n",
    "    # layers.Dense(n_units, activation=\"relu\"),\n",
    "    # layers.Dropout(0.3),\n",
    "    # layers.BatchNormalization(),\n",
    "    # layers.Dense(n_units, activation=\"relu\"),\n",
    "    # layers.Dropout(0.3),\n",
    "    # layers.BatchNormalization(),\n",
    "    layers.Dense(2, activation=\"softmax\")  # softmax for binary classification with 2 classes\n",
    "])\n",
    "\n",
    "model.compile(\n",
    "    optimizer='adam',\n",
    "    loss='categorical_crossentropy',  # since 2 classes\n",
    "    metrics=['accuracy'],\n",
    ")\n",
    "\n",
    "early_stopping = keras.callbacks.EarlyStopping(\n",
    "    patience=10,\n",
    "    min_delta=0.001,\n",
    "    restore_best_weights=True,\n",
    ")\n",
    "\n",
    "history = model.fit(\n",
    "    X_train_prep, y_train,\n",
    "    validation_data=(X_valid_prep, y_valid),\n",
    "    batch_size=512,\n",
    "    epochs=1000,\n",
    "    callbacks=[early_stopping],\n",
    "    verbose=0\n",
    ")"
   ]
  },
  {
   "cell_type": "code",
   "execution_count": 5,
   "metadata": {},
   "outputs": [
    {
     "name": "stdout",
     "output_type": "stream",
     "text": [
      "167/167 [==============================] - 1s 3ms/step\n",
      "The ROC AUC score is 0.6431609416439366\n"
     ]
    }
   ],
   "source": [
    "# Calculate the ROC AUC score\n",
    "y_pred = model.predict(X_valid_prep)\n",
    "roc_auc = roc_auc_score(y_valid, y_pred)\n",
    "print(\"The ROC AUC score is\", roc_auc)"
   ]
  },
  {
   "cell_type": "markdown",
   "metadata": {},
   "source": [
    "Scores:\n",
    "\n",
    "1 layer, 128 units: 0.6128\n",
    "2 layers, 128 units: 0.5866\n",
    "3 layers, 128 units: 0.6086\n",
    "4 layers, 128 units: 0.5869\n",
    "1 layer, 256 units: 0.6041\n",
    "2 layers, 256 units: 0.6283\n",
    "3 layers, 256 units: 0.6151\n",
    "4 layers, 256 units: 0.6089\n",
    "1 layer, 512 units: 0.6109\n",
    "2 layers, 512 units: 0.6310   <--\n",
    "3 layers, 512 units: 0.6252\n",
    "4 layers, 512 units: 0.5595\n",
    "1 layer, 1024 units: 0.6052\n",
    "2 layers, 1024 units: 0.6273\n",
    "3 layers, 1024 units: 0.6196\n",
    "4 layers, 1024 units: 0.6245"
   ]
  },
  {
   "cell_type": "code",
   "execution_count": 6,
   "metadata": {},
   "outputs": [],
   "source": [
    "# Load test data\n",
    "X_test_prep = pd.read_csv('X_test_prep.csv')\n",
    "\n",
    "# Initiate the output dataframe with id's\n",
    "X_test = pd.read_csv(\"test_set_features.csv\")\n",
    "output = pd.DataFrame(X_test[\"respondent_id\"])"
   ]
  },
  {
   "cell_type": "code",
   "execution_count": 7,
   "metadata": {},
   "outputs": [
    {
     "name": "stdout",
     "output_type": "stream",
     "text": [
      "835/835 [==============================] - 3s 3ms/step\n"
     ]
    }
   ],
   "source": [
    "# Make predictions\n",
    "y_pred = model.predict(X_test_prep)"
   ]
  },
  {
   "cell_type": "code",
   "execution_count": 69,
   "metadata": {},
   "outputs": [
    {
     "data": {
      "text/html": [
       "<div>\n",
       "<style scoped>\n",
       "    .dataframe tbody tr th:only-of-type {\n",
       "        vertical-align: middle;\n",
       "    }\n",
       "\n",
       "    .dataframe tbody tr th {\n",
       "        vertical-align: top;\n",
       "    }\n",
       "\n",
       "    .dataframe thead th {\n",
       "        text-align: right;\n",
       "    }\n",
       "</style>\n",
       "<table border=\"1\" class=\"dataframe\">\n",
       "  <thead>\n",
       "    <tr style=\"text-align: right;\">\n",
       "      <th></th>\n",
       "      <th>respondent_id</th>\n",
       "      <th>h1n1_vaccine</th>\n",
       "      <th>seasonal_vaccine</th>\n",
       "    </tr>\n",
       "  </thead>\n",
       "  <tbody>\n",
       "    <tr>\n",
       "      <th>0</th>\n",
       "      <td>26707</td>\n",
       "      <td>0.369850</td>\n",
       "      <td>0.630150</td>\n",
       "    </tr>\n",
       "    <tr>\n",
       "      <th>1</th>\n",
       "      <td>26708</td>\n",
       "      <td>0.321287</td>\n",
       "      <td>0.678713</td>\n",
       "    </tr>\n",
       "    <tr>\n",
       "      <th>2</th>\n",
       "      <td>26709</td>\n",
       "      <td>0.349197</td>\n",
       "      <td>0.650803</td>\n",
       "    </tr>\n",
       "    <tr>\n",
       "      <th>3</th>\n",
       "      <td>26710</td>\n",
       "      <td>0.306060</td>\n",
       "      <td>0.693940</td>\n",
       "    </tr>\n",
       "    <tr>\n",
       "      <th>4</th>\n",
       "      <td>26711</td>\n",
       "      <td>0.312955</td>\n",
       "      <td>0.687046</td>\n",
       "    </tr>\n",
       "  </tbody>\n",
       "</table>\n",
       "</div>"
      ],
      "text/plain": [
       "   respondent_id  h1n1_vaccine  seasonal_vaccine\n",
       "0          26707      0.369850          0.630150\n",
       "1          26708      0.321287          0.678713\n",
       "2          26709      0.349197          0.650803\n",
       "3          26710      0.306060          0.693940\n",
       "4          26711      0.312955          0.687046"
      ]
     },
     "execution_count": 69,
     "metadata": {},
     "output_type": "execute_result"
    }
   ],
   "source": [
    "# Add the predictions to the output dataframe\n",
    "y_pred_h1n1 = y_pred[:, 0]\n",
    "y_pred_seas = y_pred[:, 1]\n",
    "\n",
    "# Add the predictions to the output dataframe\n",
    "output[\"h1n1_vaccine\"] = y_pred_h1n1\n",
    "output[\"seasonal_vaccine\"] = y_pred_seas\n",
    "output.head()"
   ]
  },
  {
   "cell_type": "code",
   "execution_count": 70,
   "metadata": {},
   "outputs": [],
   "source": [
    "# Save the output as csv\n",
    "output.to_csv(\"submission_deep.csv\", index=False)"
   ]
  },
  {
   "cell_type": "markdown",
   "metadata": {},
   "source": [
    "### Final note:\n",
    "\n",
    "This model got a submission score of 0.6355. That's a lot worse than XGBoost."
   ]
  }
 ],
 "metadata": {
  "kernelspec": {
   "display_name": "tf_env",
   "language": "python",
   "name": "python3"
  },
  "language_info": {
   "codemirror_mode": {
    "name": "ipython",
    "version": 3
   },
   "file_extension": ".py",
   "mimetype": "text/x-python",
   "name": "python",
   "nbconvert_exporter": "python",
   "pygments_lexer": "ipython3",
   "version": "3.10.13"
  }
 },
 "nbformat": 4,
 "nbformat_minor": 2
}
